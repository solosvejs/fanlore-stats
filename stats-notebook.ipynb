{
    "cells": [
        {
            "cell_type": "markdown",
            "source": [
                "# Graphing Recent Changes on a Wiki #"
            ],
            "metadata": {}
        },
        {
            "cell_type": "markdown",
            "source": [
                "### Table of Contents ###\n",
                "\n",
                "* [Introduction](#intro)\n",
                "* [Method and Limitations](#method)\n",
                "* [Summary Statistics](#stats)\n",
                "* [Graphs](#graph)\n"
            ],
            "metadata": {}
        },
        {
            "cell_type": "markdown",
            "source": [
                "## <a class=\"anchor\" id=\"intro\">Introduction</a> ##\n"
            ],
            "metadata": {}
        },
        {
            "cell_type": "markdown",
            "source": [
                "\n",
                "I wanted to determine how frequently users made edits to Talk pages on [Fanlore](www.fanlore.org), a fan-created and fan-run encyclopedia and part of the [Organization for Transformative Works (OTW)](www.transformativeworks.org). I have been an OTW volunteer since 2015 in various roles; having recently become more interested in data analysis and programming, I saw an opportunity to undertake this small project.\n",
                "\n",
                "\n",
                "Fanlore recruits volunteers called \"Gardeners\" to handle higher-level editing tasks like moving and deleting pages. Often, users will get the attention of the gardener team by adding a special template to the [Talk page](https://fanlore.org/wiki/Help:Talk_pages) of articles, categories, or files. While exploring possible solutions to helping the volunteers stay on top of changes to these pages and other discussions happening on the site, the question was raised as to the volume of these edits - while it would have been possible to set up some sort of email notification to contact the Gardeners mailing list whenever a Talk page was edited, we would not want to spam the volunteers with notifications. "
            ],
            "metadata": {}
        },
        {
            "cell_type": "markdown",
            "source": [
                "###  <a class=\"anchor\" id=\"method\">Method and Limitations</a>"
            ],
            "metadata": {}
        },
        {
            "cell_type": "markdown",
            "source": [
                "Fanlore runs on the [MediaWiki](https://www.mediawiki.org/wiki/MediaWiki) platform. The software includes an API, which allowed me to pull data from the site directly rather than having to parse an HTML file. I queried the RecentChanges list, specifying that I only wanted the \"Talk\" namespace.\n",
                "\n",
                "RecentChanges is an [automatically-generated list](https://www.mediawiki.org/wiki/API:Lists) of every edit made to any page on the Wiki. It aggregates data from the individual edit histories of each page, and therefore it is not typically used as a long-term record. Only 90 days' worth of data is kept at once, and the limit on the number of items returned is 500 for regular users. As such, I was only able to examine edits over the previous 3 months. "
            ],
            "metadata": {}
        },
        {
            "cell_type": "markdown",
            "source": [
                "I used the following libraries for this project:"
            ],
            "metadata": {}
        },
        {
            "cell_type": "code",
            "execution_count": null,
            "source": [
                "import requests\n",
                "import json\n",
                "from collections import Counter, OrderedDict\n",
                "import pandas\n",
                "import plotly.express as px\n",
                "from datetime import datetime"
            ],
            "outputs": [],
            "metadata": {}
        },
        {
            "cell_type": "markdown",
            "source": [
                "Using the Requests module, I specified the below parameters to retrieve data from the API. To specify the length of time I wanted to examine, I had to convert 90 days into seconds, as the API did not accept other time formats.\n",
                "\n",
                "(Computers are really bad at time, y'all....)"
            ],
            "metadata": {}
        },
        {
            "cell_type": "code",
            "execution_count": null,
            "source": [
                "#convert 90 days into seconds - for rcend parameter below\n",
                "rangeEnd = 60*60*24*90\n",
                "\n",
                "#dictionary w/ parameters for the API request\n",
                "parameters = {\n",
                "    \"format\": \"json\", \n",
                "    \"action\": \"query\", \n",
                "    \"list\": \"recentchanges\", \n",
                "    \"rcnamespace\": 1, #Talk pages only, excluding User Talk pages\n",
                "    \"rcprop\": \"timestamp|title|ids|user\", #date of edit, title of page, version IDs, and username of editor\n",
                "    \"rcstart\": \"now\", #start of the time range\n",
                "    \"rcend\": f\"{rangeEnd}\", #end of the time range\n",
                "    \"rclimit\": 500, #how many edits to return\n",
                "}"
            ],
            "outputs": [],
            "metadata": {}
        },
        {
            "cell_type": "markdown",
            "source": [
                "With the parameters set, I could now use the Requests module to ask the API server for data. \n",
                "As we specified above, the response was already formatted as a JSON file, but we need a separate library to convert it into a Python object. In this case, it will be formatted as a **dictionary** - an array that contains key-value pairs."
            ],
            "metadata": {}
        },
        {
            "cell_type": "code",
            "execution_count": null,
            "source": [
                "#ask the Fanlore server for the data and load it with JSON\n",
                "r = requests.get(\"https://fanlore.org/w/api.php\", params=parameters)\n",
                "print(\"Paging fanlore - reponse is: \", r.status_code)\n",
                "scrape = json.loads(r.content)"
            ],
            "outputs": [],
            "metadata": {}
        },
        {
            "cell_type": "markdown",
            "source": [
                "\"200\" means the server accepted our request and is sending over data. \n",
                "\n",
                "Now we can loop through the dictionary we created from the JSON data, pulling out the timestamp of each edit and adding it to the `tsList` variable we created to hold the timestamps."
            ],
            "metadata": {}
        },
        {
            "cell_type": "code",
            "execution_count": null,
            "source": [
                "tsList = []  # Empty list to store the timestamps we will get later\n",
                "\n",
                "for change in scrape['query']['recentchanges']:\n",
                "    tsList.append(change['timestamp'])"
            ],
            "outputs": [],
            "metadata": {}
        },
        {
            "cell_type": "markdown",
            "source": [
                "The timestamps in our list are formatted like this: `2021-06-03T17:10:04Z`\n",
                "Because we aren't looking at the *time* edits edit were made, only the day, we can use another loop to go through the list and split each timestamp at the \"T\" character. This will be stored in a new list, called `tsListTrimmed`."
            ],
            "metadata": {}
        },
        {
            "cell_type": "markdown",
            "source": [
                "###  <a class=\"anchor\" id=\"chapter1\">High-level Stats</a>"
            ],
            "metadata": {}
        },
        {
            "cell_type": "markdown",
            "source": [
                "I wanted to also determine the number of total edits, as well as the earliest and latest dates of the edits. Because the data from the API is returned in a chronological order, this was fairly easy to do - we only needed to retrieve the first and last item on the list."
            ],
            "metadata": {}
        },
        {
            "cell_type": "code",
            "execution_count": null,
            "source": [
                "print(f\"Retrieved {len(tsList)} edits from the server. (Maximum is 500)\")\n",
                "print(f\"The latest date is {tsList[0]}. The earliest date is {tsList[(len(tsList)-1)]}\")"
            ],
            "outputs": [],
            "metadata": {}
        },
        {
            "cell_type": "markdown",
            "source": [
                "As you can see above, the entries in our list were formatted to include the time of the edit as well. Since I didn't need that info, I split the timestamps at the \"T\" character, storing the new dates in their own list."
            ],
            "metadata": {}
        },
        {
            "cell_type": "code",
            "execution_count": null,
            "source": [
                "tsListTrimmed = []\n",
                "\n",
                "for item in tsList:\n",
                "    tsListTrimmed.append(item.split('T')[0])"
            ],
            "outputs": [],
            "metadata": {}
        },
        {
            "cell_type": "markdown",
            "source": [
                "Now that we have a clean list of dates, we can use the Counter object (part of the Collections library) to determine their frequency. This will create a new dictionary with the keys indicating the number of times each value (date) occurs. However, since this dictionary is ordered from most to least frequent, it will not be very useful for plotting on a line graph, so we will convert it to a regular dictionary as well. "
            ],
            "metadata": {}
        },
        {
            "cell_type": "code",
            "execution_count": null,
            "source": [
                "tsCounter = Counter(tsListTrimmed) # ordered from highest to lowest count...\n",
                "graphData = dict(tsCounter)  #chronological"
            ],
            "outputs": [],
            "metadata": {}
        },
        {
            "cell_type": "markdown",
            "source": [
                "Now we are ready to start creating our graph."
            ],
            "metadata": {}
        },
        {
            "cell_type": "code",
            "execution_count": null,
            "source": [
                "x_val = list(graphData.keys())  # dates\n",
                "y_val = list(graphData.values())  # freq\n",
                "\n",
                "print(\"Making the graph... Check your browser!\")\n",
                "\n",
                "graph = px.line(\n",
                "    x=x_val,\n",
                "    y=y_val,\n",
                "    title=\"Frequency of Talk Page edits on Fanlore.org, last 90 days\",\n",
                "    labels={\"x\": \"Date\", \"y\": \"# of Edits\"})\n",
                "\n",
                "graph.update_xaxes(rangeslider_visible=True)\n",
                "graph.show()\n"
            ],
            "outputs": [],
            "metadata": {}
        },
        {
            "cell_type": "markdown",
            "source": [
                "You can hover over the line to see individual values for each day, or use the slider below the graph to zoom in and isolate a particular range."
            ],
            "metadata": {}
        }
    ],
    "metadata": {
        "orig_nbformat": 4,
        "language_info": {
            "name": "python",
            "version": "3.9.5",
            "mimetype": "text/x-python",
            "codemirror_mode": {
                "name": "ipython",
                "version": 3
            },
            "pygments_lexer": "ipython3",
            "nbconvert_exporter": "python",
            "file_extension": ".py"
        },
        "kernelspec": {
            "name": "python3",
            "display_name": "Python 3.9.5 64-bit"
        },
        "interpreter": {
            "hash": "3ea8bffcdcf56f29afb71819aeeb7a7dfef840f8d3a55f452f95a9d77096f60e"
        }
    },
    "nbformat": 4,
    "nbformat_minor": 2
}