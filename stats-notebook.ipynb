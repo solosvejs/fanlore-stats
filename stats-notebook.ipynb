{
    "cells": [
        {
            "cell_type": "markdown",
            "source": [
                "# Graphing Recent Changes on a Wiki #"
            ],
            "metadata": {}
        },
        {
            "cell_type": "markdown",
            "source": [
                "### Table of Contents ###\n",
                "\n",
                "* [Introduction](#intro)\n",
                "* [Method and Limitations](#method)\n",
                "* [Summary Statistics](#stats)\n",
                "* [Graphs](#graph)\n"
            ],
            "metadata": {}
        },
        {
            "cell_type": "markdown",
            "source": [
                "## <a class=\"anchor\" id=\"intro\">Introduction</a> ##\n"
            ],
            "metadata": {}
        },
        {
            "cell_type": "markdown",
            "source": [
                "\n",
                "I wanted to determine how frequently users made edits to Talk pages on [Fanlore](www.fanlore.org), a fan-created and fan-run encyclopedia and part of the [Organization for Transformative Works (OTW)](www.transformativeworks.org). I have been an OTW volunteer since 2015 in various roles; having recently become more interested in data analysis and programming, I saw an opportunity to undertake this small project.\n",
                "\n",
                "\n",
                "Fanlore recruits volunteers called \"Gardeners\" to handle higher-level editing tasks like moving and deleting pages. Often, users will get the attention of the gardener team by adding a special template to the [Talk page](https://fanlore.org/wiki/Help:Talk_pages) of articles, categories, or files. While exploring possible solutions to helping the volunteers stay on top of changes to these pages and other discussions happening on the site, the question was raised as to the volume of these edits - while it would have been possible to set up some sort of email notification to contact the Gardeners mailing list whenever a Talk page was edited, we would not want to spam the volunteers with notifications. "
            ],
            "metadata": {}
        },
        {
            "cell_type": "markdown",
            "source": [
                "###  <a class=\"anchor\" id=\"method\">Method and Limitations</a>"
            ],
            "metadata": {}
        },
        {
            "cell_type": "markdown",
            "source": [
                "Fanlore runs on the [MediaWiki](https://www.mediawiki.org/wiki/MediaWiki) platform. The software includes an API, which allowed me to pull data from the site directly rather than having to parse an HTML file. I queried the RecentChanges list, specifying that I only wanted the \"Talk\" namespace.\n",
                "\n",
                "RecentChanges is an [automatically-generated list](https://www.mediawiki.org/wiki/API:Lists) of every edit made to any page on the Wiki. It aggregates data from the individual edit histories of each page, and therefore it is not typically used as a long-term record. Only 90 days' worth of data is kept at once, and the limit on the number of items returned is 500 for regular users. As such, I was only able to examine edits over the previous 3 months. "
            ],
            "metadata": {}
        },
        {
            "cell_type": "markdown",
            "source": [
                "I used the following libraries for this project:"
            ],
            "metadata": {}
        },
        {
            "cell_type": "code",
            "execution_count": null,
            "source": [
                "import requests\n",
                "import json\n",
                "from collections import Counter, OrderedDict\n",
                "import pandas\n",
                "import plotly.express as px\n",
                "from datetime import datetime"
            ],
            "outputs": [],
            "metadata": {}
        },
        {
            "cell_type": "markdown",
            "source": [
                "Using the Requests module, I specified the below parameters to retrieve data from the API. To specify the length of time I wanted to examine, I had to convert 90 days into seconds, as the API did not accept other time formats.\n",
                "\n",
                "(Computers are really weird about time, y'all....)"
            ],
            "metadata": {}
        },
        {
            "cell_type": "code",
            "execution_count": null,
            "source": [
                "#convert 90 days into seconds - for rcend parameter below\n",
                "rangeEnd = 60*60*24*90\n",
                "\n",
                "#dictionary w/ parameters for the API request\n",
                "parameters = {\n",
                "    \"format\": \"json\", \n",
                "    \"action\": \"query\", \n",
                "    \"list\": \"recentchanges\", \n",
                "    \"rcnamespace\": 1, #Talk pages only, excluding User Talk pages\n",
                "    \"rcprop\": \"timestamp|title|ids|user\", #date of edit, title of page, version IDs, and username of editor\n",
                "    \"rcstart\": \"now\", #start of the time range\n",
                "    \"rcend\": f\"{rangeEnd}\", #end of the time range\n",
                "    \"rclimit\": 500, #how many edits to return\n",
                "}"
            ],
            "outputs": [],
            "metadata": {}
        },
        {
            "cell_type": "markdown",
            "source": [
                "With the parameters set, I could now use the Requests module to ask the API server for data. \n",
                "As we specified above, the response was already formatted as a JSON file, but we need a separate library to convert it into a Python object. In this case, it will be formatted as a **dictionary** - an array that contains key-value pairs."
            ],
            "metadata": {}
        },
        {
            "cell_type": "code",
            "execution_count": null,
            "source": [
                "#ask the Fanlore server for the data and load it with JSON\n",
                "r = requests.get(\"https://fanlore.org/w/api.php\", params=parameters)\n",
                "print(\"Paging fanlore - reponse is: \", r.status_code)\n",
                "scrape = json.loads(r.content)"
            ],
            "outputs": [],
            "metadata": {}
        },
        {
            "cell_type": "markdown",
            "source": [
                "\"200\" means the server accepted our request and is sending over data. \n",
                "\n",
                "Now we can loop through the dictionary we created from the JSON data, pulling out the timestamp of each edit and adding it to the `tsList` variable we created to hold the timestamps."
            ],
            "metadata": {}
        },
        {
            "cell_type": "code",
            "execution_count": null,
            "source": [
                "tsList = []  # Empty list to store the timestamps we will get later\n",
                "\n",
                "for change in scrape['query']['recentchanges']:\n",
                "    tsList.append(change['timestamp'])"
            ],
            "outputs": [],
            "metadata": {}
        },
        {
            "cell_type": "markdown",
            "source": [
                "The timestamps in our list are formatted like this: `2021-06-03T17:10:04Z`\n",
                "Because we aren't looking at the *time* edits edit were made, only the day, we can use another loop to go through the list and split each timestamp at the \"T\" character. This will be stored in a new list, called `tsListTrim`."
            ],
            "metadata": {}
        },
        {
            "cell_type": "code",
            "execution_count": null,
            "source": [
                "tsListTrim = []\n",
                "for item in tsList:\n",
                "    tsListTrim.append(item.split('T')[0])"
            ],
            "outputs": [],
            "metadata": {}
        },
        {
            "cell_type": "markdown",
            "source": [
                "###  <a class=\"anchor\" id=\"stats\">Summary Statistics</a>"
            ],
            "metadata": {}
        },
        {
            "cell_type": "markdown",
            "source": [
                "Before we create visualizations, lets examine some high-level summary statistics."
            ],
            "metadata": {}
        },
        {
            "cell_type": "code",
            "execution_count": null,
            "source": [
                "print(f\"Retrieved {len(tsListTrim)} edits from the server. (Maximum is 500)\")\n",
                "print(f\"The latest date is {tsListTrim[0]}. The earliest date is {tsListTrim[(len(tsListTrim)-1)]}\")"
            ],
            "outputs": [],
            "metadata": {}
        },
        {
            "cell_type": "markdown",
            "source": [
                "Now that we have a clean list of dates, we can use the Counter object (part of the Collections library) to determine their frequency. This will create a new dictionary, which we will call `tsCounter`."
            ],
            "metadata": {}
        },
        {
            "cell_type": "code",
            "execution_count": null,
            "source": [
                "tsCounter = Counter(tsListTrim)\n",
                "\n",
                "print(f'The dates with the top 5 most edits are:{(tsCounter.most_common(3))}')\n",
                "print(f'The average number of edits per day is {sum(tsCounter.values())/len(tsListTrim)}')"
            ],
            "outputs": [],
            "metadata": {}
        },
        {
            "cell_type": "markdown",
            "source": [
                "I also got the bright idea to see if certain days of the week had more edits than others. This basically required me to take the list of timestamps, convert it into a Time Object (don't worry about it), then convert it back into text with the day of the week and the integer (otherwise the graph wouldn't sort properly)"
            ],
            "metadata": {}
        },
        {
            "cell_type": "code",
            "execution_count": null,
            "source": [
                "#Examining the days of the week\n",
                "tsListTrim_days = []\n",
                "for each in tsListTrim:\n",
                "    tsListTrim_days.append(datetime.strptime(each,\"%Y-%m-%d\"))\n",
                "\n",
                "days_List = []\n",
                "for each in tsListTrim_days:\n",
                "    days_List.append(datetime.strftime(each, \"%u-%A\"))\n",
                "\n",
                "days_Listcount = Counter(days_List)\n",
                "\n",
                "print(days_Listcount)\n"
            ],
            "outputs": [],
            "metadata": {}
        },
        {
            "cell_type": "markdown",
            "source": [
                "## <a class=\"anchor\" id=\"graph\">Graphs</a> ##\n"
            ],
            "metadata": {}
        },
        {
            "cell_type": "code",
            "execution_count": null,
            "source": [
                "#This is our coutner dictionary from before; we have to convert it into a regular dictionary to sort it properly for plotting.\n",
                "graphData = dict(tsCounter)\n",
                "\n",
                "days_Listcount = Counter(days_List)\n",
                "days_count_sorted = OrderedDict(sorted(days_Listcount.items(), key=lambda t: t[0]))\n",
                "\n",
                "days_df = pandas.DataFrame(list(days_count_sorted.items()), columns=['Day', 'Edits'])\n"
            ],
            "outputs": [],
            "metadata": {}
        },
        {
            "cell_type": "markdown",
            "source": [
                "Now we are ready to start creating our graphs - one that shows the frequency of edits over the last 90 days (`line_graph`), and another that shows how many edits were done on each day of the week ()"
            ],
            "metadata": {}
        },
        {
            "cell_type": "code",
            "execution_count": null,
            "source": [
                "# # # ### Bar Graph ####\n",
                "\n",
                "daysGraph = px.bar(\n",
                "    days_df,\n",
                "    title=\"Days with highest Talk page activity\",\n",
                "    x='Day',\n",
                "    y='Edits',\n",
                "    labels={\"x\":\"Day\",\"y\":\"Edits\"},\n",
                "    color='Day',\n",
                "    color_discrete_sequence=px.colors.qualitative.Plotly,\n",
                "    template=\"plotly\",\n",
                "    )\n",
                "\n",
                "# # ### Line Graph ####\n",
                "freqData = dict(tsCounter)\n",
                "ts_x = list(freqData.keys()) #dates\n",
                "ts_y = list(freqData.values()) #freq\n",
                "\n",
                "freqGraph = px.line(\n",
                "    x=ts_x,\n",
                "    y=ts_y,\n",
                "    title=\"Frequency of Talk Page edits on Fanlore.org, last 90 days\",\n",
                "    labels={\"x\" : \"Date\",\"y\" : \"# of Edits\"})\n",
                "\n",
                "freqGraph.update_xaxes(rangeslider_visible=True)"
            ],
            "outputs": [],
            "metadata": {}
        },
        {
            "cell_type": "code",
            "execution_count": null,
            "source": [
                "freqGraph.show()"
            ],
            "outputs": [],
            "metadata": {}
        },
        {
            "cell_type": "code",
            "execution_count": null,
            "source": [
                "daysGraph.show()"
            ],
            "outputs": [],
            "metadata": {}
        },
        {
            "cell_type": "markdown",
            "source": [
                "You can hover over the line to see individual values for each day, or use the slider below the graph to zoom in and isolate a particular range."
            ],
            "metadata": {}
        }
    ],
    "metadata": {
        "orig_nbformat": 4,
        "language_info": {
            "name": "python",
            "version": "3.9.5",
            "mimetype": "text/x-python",
            "codemirror_mode": {
                "name": "ipython",
                "version": 3
            },
            "pygments_lexer": "ipython3",
            "nbconvert_exporter": "python",
            "file_extension": ".py"
        },
        "kernelspec": {
            "name": "python3",
            "display_name": "Python 3.9.5 64-bit"
        },
        "interpreter": {
            "hash": "3ea8bffcdcf56f29afb71819aeeb7a7dfef840f8d3a55f452f95a9d77096f60e"
        }
    },
    "nbformat": 4,
    "nbformat_minor": 2
}